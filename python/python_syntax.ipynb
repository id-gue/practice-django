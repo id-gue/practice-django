{
 "cells": [
  {
   "cell_type": "markdown",
   "metadata": {},
   "source": [
    "# Python Syntax\n",
    "\n",
    "https://en.wikipedia.org/wiki/Python_syntax_and_semantics"
   ]
  },
  {
   "cell_type": "markdown",
   "metadata": {},
   "source": [
    "### Zen of Python\n",
    "\n",
    "`python\n",
    "import this`"
   ]
  },
  {
   "cell_type": "markdown",
   "metadata": {},
   "source": [
    "### Keywords in Python3\n",
    "\n",
    "reserved words; cannot be used as identifiers\n",
    "\n",
    " `and as assert async await`   \n",
    " `break`   \n",
    " `class continue`   \n",
    " `def del`  \n",
    " `elif else except`   \n",
    " `finally for from`   \n",
    " `global`   \n",
    " `if import in is`   \n",
    " `lambda`   \n",
    " `nonlocal not`   \n",
    " `or`    \n",
    " `pass`   \n",
    " `raise return`   \n",
    " `try`   \n",
    " `while with`  \n",
    " `yield`   \n",
    "\n",
    "`False None True` "
   ]
  },
  {
   "cell_type": "markdown",
   "metadata": {},
   "source": [
    "## Data structures\n",
    "\n",
    "Python = dynamically typed language   \n",
    "values (not variables) carry type   \n",
    "\n",
    "variables hold reference to objects   \n",
    "these references are passed into functions   \n",
    "\n",
    "\"Call by object reference\"\n",
    "\n",
    "\"object reference\" = a name   \n",
    "passed reference = an \"alias\"   \n",
    "(i.a. a copy of the reference to the same object)\n",
    "\n",
    "The object's value may be changed   \n",
    "in the called function   \n",
    "with the \"alias\":"
   ]
  },
  {
   "cell_type": "code",
   "execution_count": 3,
   "metadata": {},
   "outputs": [],
   "source": [
    "alist = ['a', 'b', 'c']\n",
    "def myfunc(al):\n",
    "    al.append('x')\n",
    "    print(al)"
   ]
  },
  {
   "cell_type": "code",
   "execution_count": 4,
   "metadata": {},
   "outputs": [
    {
     "data": {
      "text/plain": [
       "['a', 'b', 'c']"
      ]
     },
     "execution_count": 4,
     "metadata": {},
     "output_type": "execute_result"
    }
   ],
   "source": [
    "alist"
   ]
  },
  {
   "cell_type": "code",
   "execution_count": 5,
   "metadata": {},
   "outputs": [
    {
     "name": "stdout",
     "output_type": "stream",
     "text": [
      "['a', 'b', 'c', 'x']\n"
     ]
    }
   ],
   "source": [
    "myfunc(alist)"
   ]
  },
  {
   "cell_type": "code",
   "execution_count": 6,
   "metadata": {},
   "outputs": [
    {
     "data": {
      "text/plain": [
       "['a', 'b', 'c', 'x']"
      ]
     },
     "execution_count": 6,
     "metadata": {},
     "output_type": "execute_result"
    }
   ],
   "source": [
    "alist"
   ]
  },
  {
   "cell_type": "markdown",
   "metadata": {},
   "source": [
    "In the Example above:\n",
    "\n",
    "    myfunc = Function\n",
    "    variable = alist\n",
    "    argument = al (is a alias of \"alist\")\n",
    "    append() = method \n",
    "    "
   ]
  },
  {
   "cell_type": "markdown",
   "metadata": {},
   "source": [
    "### collection types\n",
    "(also 'container types)\n",
    "\n",
    "= object that contains other objects   \n",
    "in a way that is easily referenced or indexed\n",
    "\n",
    "**2 Forms of collections:** \n",
    "- sequences (ordered types: lists, tubles, strings)\n",
    "- mappings (unordered types: dictionaries) \n",
    "\n",
    "A set of collection types became part of the core language.     \n",
    "examples: `union, intersection, difference` and `subset` testing\n",
    "\n",
    "set = unindexed, unordered collection, that implements set theoretic operations \n",
    "\n",
    "**2 types of sets:**\n",
    "- set (mutable)\n",
    "- frozenset (immutable)\n",
    "\n"
   ]
  },
  {
   "cell_type": "markdown",
   "metadata": {},
   "source": [
    "### Object system\n",
    "\n",
    "in python everything is an object, even classes    \n",
    "classes (as objects) have a class – thier metaclass\n",
    "\n",
    "types are instances of `type`   \n",
    "\n",
    "Python supports extensive introspection of types and classes."
   ]
  },
  {
   "cell_type": "markdown",
   "metadata": {},
   "source": [
    "## Literals \n",
    "\n",
    "### Strings"
   ]
  },
  {
   "cell_type": "code",
   "execution_count": 10,
   "metadata": {},
   "outputs": [
    {
     "name": "stdout",
     "output_type": "stream",
     "text": [
      "I just printed 7 pages to the printer sting\n",
      "I just printed 7 pages to the printer sting\n",
      "I just printed 7 pages to the printer sting\n",
      "I just printed 7 pages to the printer sting\n"
     ]
    }
   ],
   "source": [
    "#Normal string literals\n",
    "\n",
    "num = 7\n",
    "printer = \"sting\"\n",
    "\n",
    "print(\"I just printed %s pages to the printer %s\" % (num, printer))\n",
    "print(\"I just printed {0} pages to the printer {1}\".format(num, printer))\n",
    "print(\"I just printed {num} pages to the printer {printer}\".format(num=num, printer=printer))\n",
    "print(f\"I just printed {num} pages to the printer {printer}\")"
   ]
  },
  {
   "cell_type": "code",
   "execution_count": 12,
   "metadata": {},
   "outputs": [
    {
     "name": "stdout",
     "output_type": "stream",
     "text": [
      "Dear Spike,\n",
      "\n",
      "I wish you to leave Sunnydale and never return.\n",
      "\n",
      "Not Quite Love,\n",
      "Buffy the Vampire Slayer\n",
      "\n"
     ]
    }
   ],
   "source": [
    "# multi-line string literals\n",
    "\n",
    "print(\"\"\"Dear %(recipient)s,\n",
    "\n",
    "I wish you to leave Sunnydale and never return.\n",
    "\n",
    "Not Quite Love,\n",
    "%(sender)s\n",
    "\"\"\" % {'sender': 'Buffy the Vampire Slayer', 'recipient': 'Spike'})"
   ]
  },
  {
   "cell_type": "code",
   "execution_count": 20,
   "metadata": {},
   "outputs": [
    {
     "data": {
      "text/plain": [
       "'C:\\\\Foo\\\\Bar\\\\Baz\\\\'"
      ]
     },
     "execution_count": 20,
     "metadata": {},
     "output_type": "execute_result"
    }
   ],
   "source": [
    "# raw strings (useful for regular expressions)\n",
    "# denoted by placing a literal r before the opening quote\n",
    "\n",
    "dos_path = r\"C:\\Foo\\Bar\\Baz\\ \"\n",
    "dos_path.rstrip()"
   ]
  },
  {
   "cell_type": "code",
   "execution_count": 21,
   "metadata": {},
   "outputs": [],
   "source": [
    "# Concatenation of adjacent string literals\n",
    "\n",
    "title = \"One Good Turn: \" \\\n",
    "        'A Natural History of the Screwdriver and the Screw'"
   ]
  },
  {
   "cell_type": "code",
   "execution_count": 23,
   "metadata": {},
   "outputs": [],
   "source": [
    "# Numbers\n",
    "\n",
    "Numbers = 0, -1, 3.4, 3.5e-8"
   ]
  },
  {
   "cell_type": "code",
   "execution_count": 34,
   "metadata": {
    "collapsed": true
   },
   "outputs": [],
   "source": [
    "# Lists\n",
    "\n",
    "a_list = [1, 2, 3, \"a cat\"]\n",
    "empty_list = []"
   ]
  },
  {
   "cell_type": "code",
   "execution_count": 32,
   "metadata": {},
   "outputs": [],
   "source": [
    "# Tuples\n",
    "\n",
    "a_tuple = 1, 2, 3, \"four\"\n",
    "empty_tuple = ()"
   ]
  },
  {
   "cell_type": "code",
   "execution_count": 30,
   "metadata": {},
   "outputs": [],
   "source": [
    "# Sets\n",
    "\n",
    "some_set = {0, (), False}\n",
    "empty_set = set()"
   ]
  },
  {
   "cell_type": "code",
   "execution_count": 33,
   "metadata": {
    "collapsed": true
   },
   "outputs": [],
   "source": [
    "# Dictionaries\n",
    "\n",
    "a_dictionary = {\"key 1\": \"value 1\", 2: 3, 10: []}\n",
    "empty_dictionary = {}"
   ]
  },
  {
   "cell_type": "markdown",
   "metadata": {},
   "source": [
    "## Operators\n",
    "\n",
    "Arithmetic operators:   \n",
    "`+ - * / % ** `\n",
    "\n",
    "Comparison operators:   \n",
    "`== < <= `\n",
    "\n",
    "Logic operators:   \n",
    "`True None and or`\n"
   ]
  },
  {
   "cell_type": "markdown",
   "metadata": {},
   "source": [
    "## Functional programming\n",
    "\n",
    "### Comprehensions\n",
    "\n",
    "Format for list comprehension:   \n",
    "L = [mapping-expression for element in source-list if filter-expression]"
   ]
  },
  {
   "cell_type": "code",
   "execution_count": 36,
   "metadata": {},
   "outputs": [
    {
     "name": "stdout",
     "output_type": "stream",
     "text": [
      "[2, 4, 8, 16, 32]\n"
     ]
    }
   ],
   "source": [
    "powers_of_two = [2**n for n in range(1, 6)]\n",
    "print(powers_of_two)"
   ]
  },
  {
   "cell_type": "markdown",
   "metadata": {},
   "source": [
    "### First-class functions\n",
    "\n",
    "first-class objects can be created and passed around dynamically\n",
    "\n",
    "**lambda**\n",
    "- supports anonymous functions (which are not bound to an identifier)\n",
    "- limited to containing expressions (rather than statements)\n",
    "\n"
   ]
  },
  {
   "cell_type": "markdown",
   "metadata": {},
   "source": [
    "### Closures\n",
    "\n",
    "= techniques for implementing lexically scoped name bindings   \n",
    "= function that contains access to their creating context "
   ]
  },
  {
   "cell_type": "code",
   "execution_count": 45,
   "metadata": {},
   "outputs": [],
   "source": [
    "def derivative(f, dx):\n",
    "    \"\"\"Return a function that approximates the derivative of f\n",
    "    using an interval of dx, which should be appropriately small.\n",
    "    \"\"\"\n",
    "    def function(x):\n",
    "        return (f(x + dx) - f(x) / dx)\n",
    "    return function"
   ]
  },
  {
   "cell_type": "markdown",
   "metadata": {},
   "source": [
    "### Generators, Generator expressions, Dictionary and set comprehensions\n",
    "\n",
    "do that later – what we do is nut functional, but object oriented programming"
   ]
  },
  {
   "cell_type": "markdown",
   "metadata": {},
   "source": [
    "## Objects\n",
    "\n"
   ]
  },
  {
   "cell_type": "code",
   "execution_count": null,
   "metadata": {
    "collapsed": true
   },
   "outputs": [],
   "source": []
  }
 ],
 "metadata": {
  "kernelspec": {
   "display_name": "Python 3",
   "language": "python",
   "name": "python3"
  },
  "language_info": {
   "codemirror_mode": {
    "name": "ipython",
    "version": 3
   },
   "file_extension": ".py",
   "mimetype": "text/x-python",
   "name": "python",
   "nbconvert_exporter": "python",
   "pygments_lexer": "ipython3",
   "version": "3.6.1"
  }
 },
 "nbformat": 4,
 "nbformat_minor": 2
}
