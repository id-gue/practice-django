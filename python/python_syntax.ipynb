{
 "cells": [
  {
   "cell_type": "markdown",
   "metadata": {},
   "source": [
    "# Python Syntax\n",
    "\n",
    "https://en.wikipedia.org/wiki/Python_syntax_and_semantics"
   ]
  },
  {
   "cell_type": "markdown",
   "metadata": {},
   "source": [
    "### Zen of Python\n",
    "\n",
    "`python\n",
    "import this`"
   ]
  },
  {
   "cell_type": "markdown",
   "metadata": {},
   "source": [
    "### Keywords in Python3\n",
    "\n",
    "reserved words; cannot be used as identifiers\n",
    "\n",
    " `and as assert async await`   \n",
    " `break`   \n",
    " `class continue`   \n",
    " `def del`  \n",
    " `elif else except`   \n",
    " `finally for from`   \n",
    " `global`   \n",
    " `if import in is`   \n",
    " `lambda`   \n",
    " `nonlocal not`   \n",
    " `or`    \n",
    " `pass`   \n",
    " `raise return`   \n",
    " `try`   \n",
    " `while with`  \n",
    " `yield`   \n",
    "\n",
    "`False None True` "
   ]
  },
  {
   "cell_type": "markdown",
   "metadata": {},
   "source": [
    "### Data structures\n",
    "\n",
    "Python = dynamically typed language   \n",
    "values (not variables) carry type   \n",
    "\n",
    "variables hold reference to objects   \n",
    "these references are passed into functions   \n",
    "\n",
    "\"Call by object reference\"\n",
    "\n",
    "\"object reference\" = a name   \n",
    "passed reference = an \"alias\"   \n",
    "(i.a. a copy of the reference to the same object)\n",
    "\n",
    "The object's value may be changed   \n",
    "in the called function   \n",
    "with the \"alias\":"
   ]
  },
  {
   "cell_type": "code",
   "execution_count": 3,
   "metadata": {},
   "outputs": [],
   "source": [
    "alist = ['a', 'b', 'c']\n",
    "def myfunc(al):\n",
    "    al.append('x')\n",
    "    print(al)"
   ]
  },
  {
   "cell_type": "code",
   "execution_count": 4,
   "metadata": {},
   "outputs": [
    {
     "data": {
      "text/plain": [
       "['a', 'b', 'c']"
      ]
     },
     "execution_count": 4,
     "metadata": {},
     "output_type": "execute_result"
    }
   ],
   "source": [
    "alist"
   ]
  },
  {
   "cell_type": "code",
   "execution_count": 5,
   "metadata": {},
   "outputs": [
    {
     "name": "stdout",
     "output_type": "stream",
     "text": [
      "['a', 'b', 'c', 'x']\n"
     ]
    }
   ],
   "source": [
    "myfunc(alist)"
   ]
  },
  {
   "cell_type": "code",
   "execution_count": 6,
   "metadata": {},
   "outputs": [
    {
     "data": {
      "text/plain": [
       "['a', 'b', 'c', 'x']"
      ]
     },
     "execution_count": 6,
     "metadata": {},
     "output_type": "execute_result"
    }
   ],
   "source": [
    "alist"
   ]
  },
  {
   "cell_type": "markdown",
   "metadata": {},
   "source": [
    "In the Example above:\n",
    "\n",
    "    myfunc = Function\n",
    "    variable = alist\n",
    "    argument = al (is a alias of \"alist\")\n",
    "    append() = method \n",
    "    "
   ]
  },
  {
   "cell_type": "markdown",
   "metadata": {},
   "source": [
    "### collection types\n",
    "(also 'container types)\n",
    "\n",
    "= object that contains other objects   \n",
    "in a way that is easily referenced or indexed\n",
    "\n",
    "**2 Forms of collections:** \n",
    "- sequences (ordered types: lists, tubles, strings)\n",
    "- mappings (unordered types: dictionaries) \n",
    "\n",
    "A set of collection types became part of the core language.     \n",
    "examples: `union, intersection, difference` and `subset` testing\n",
    "\n",
    "set = unindexed, unordered collection, that implements set theoretic operations \n",
    "\n",
    "**2 types of sets:**\n",
    "- set (mutable)\n",
    "- frozenset (immutable)\n",
    "\n"
   ]
  },
  {
   "cell_type": "markdown",
   "metadata": {},
   "source": [
    "### Object system\n",
    "\n",
    "in python everything is an object, even classes    \n",
    "classes (as objects) have a class – thier metaclass\n",
    "\n",
    "types are instances of `type`   \n",
    "\n",
    "Python supports extensive introspection of types and classes."
   ]
  },
  {
   "cell_type": "code",
   "execution_count": null,
   "metadata": {
    "collapsed": true
   },
   "outputs": [],
   "source": []
  }
 ],
 "metadata": {
  "kernelspec": {
   "display_name": "Python 3",
   "language": "python",
   "name": "python3"
  },
  "language_info": {
   "codemirror_mode": {
    "name": "ipython",
    "version": 3
   },
   "file_extension": ".py",
   "mimetype": "text/x-python",
   "name": "python",
   "nbconvert_exporter": "python",
   "pygments_lexer": "ipython3",
   "version": "3.6.1"
  }
 },
 "nbformat": 4,
 "nbformat_minor": 2
}
