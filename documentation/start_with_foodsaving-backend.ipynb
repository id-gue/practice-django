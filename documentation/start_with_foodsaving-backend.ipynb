{
 "cells": [
  {
   "cell_type": "markdown",
   "metadata": {},
   "source": [
    "# foodsaving.world\n",
    "\n",
    "Website: https://foodsaving.world/  \n",
    "Repository on GitHub: https://github.com/yunity/foodsaving-backend\n",
    "\n",
    "\n",
    "**Written in Python Django REST**\n",
    "\n",
    "- Python – object-oriented programming language  \n",
    "- Django – Python framework (for faster web development  \n",
    "         Tutorial: https://docs.djangoproject.com/en/1.11/intro/tutorial01/ \n",
    "- REST   – Framework on top of django for building Web APIs  \n",
    "         Tutorial: http://www.django-rest-framework.org/tutorial/1-serialization/"
   ]
  },
  {
   "cell_type": "markdown",
   "metadata": {},
   "source": [
    "## 01  Setup\n",
    "\n",
    "First deside if you want to use Docker for the setup or try to install everything without it. Both options are described in the README.md in the foodsaving-backend repository. \n",
    "\n",
    "If you want to work with docker, we would suggest to use three taps in the shell:\n",
    "\n",
    "1. Tab for Communicating with git / GitHub (doing that inside the docker container might raise weird errors)  \n",
    "2. Tab (with docker running) for run manage.py commands:"
   ]
  },
  {
   "cell_type": "raw",
   "metadata": {},
   "source": [
    "# after starting Docker your lines in she shell start with (env)\n",
    "\n",
    "# running tests:\n",
    "python manage.py test\n",
    "\n",
    "# after changing a model/class you have to migrate them:\n",
    "python manage.py makemigrations\n",
    "python manage.py migrate\n",
    "\n",
    "# leave docker\n",
    "exit\n"
   ]
  },
  {
   "cell_type": "markdown",
   "metadata": {},
   "source": [
    " 3, Tab (with docker running) to check what your server is doing"
   ]
  },
  {
   "cell_type": "raw",
   "metadata": {},
   "source": [
    "# find our the name of your docker container\n",
    "docker ps\n",
    "\n",
    "# execute your running container in a second window\n",
    "docker exec -it <container_name> bash\n",
    "\n",
    "# show the last 12 lines of the server output\n",
    "docker logs -f <container_name> --tail \"12\"\n"
   ]
  },
  {
   "cell_type": "markdown",
   "metadata": {},
   "source": [
    "## 02 Server and Swagger\n",
    "\n",
    "**Why do you need the server output?**\n",
    "\n",
    "On the one hand it's good to notice when it's not running anymore to avoid errors, on the other hand it shows you some sample data. In particular a mail address and the password 123. Use this to login in swagger:\n",
    "\n",
    "http://127.0.0.1:8000/docs/\n",
    "\n",
    "**Why Swagger?**\n",
    "\n",
    "Swagger shows you the API endpoints you generate "
   ]
  },
  {
   "cell_type": "code",
   "execution_count": null,
   "metadata": {},
   "outputs": [],
   "source": []
  },
  {
   "cell_type": "code",
   "execution_count": null,
   "metadata": {
    "collapsed": true
   },
   "outputs": [],
   "source": []
  }
 ],
 "metadata": {
  "kernelspec": {
   "display_name": "Python 3",
   "language": "python",
   "name": "python3"
  },
  "language_info": {
   "codemirror_mode": {
    "name": "ipython",
    "version": 3
   },
   "file_extension": ".py",
   "mimetype": "text/x-python",
   "name": "python",
   "nbconvert_exporter": "python",
   "pygments_lexer": "ipython3",
   "version": "3.6.1"
  }
 },
 "nbformat": 4,
 "nbformat_minor": 2
}
