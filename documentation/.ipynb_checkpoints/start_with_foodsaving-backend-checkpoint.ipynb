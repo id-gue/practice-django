{
 "cells": [
  {
   "cell_type": "markdown",
   "metadata": {},
   "source": [
    "# foodsaving.world\n",
    "\n",
    "Website: https://foodsaving.world/  \n",
    "Repository on GitHub: https://github.com/yunity/foodsaving-backend\n",
    "\n",
    "\n",
    "**Written in Python Django REST**\n",
    "\n",
    "- Python – object-oriented programming language  \n",
    "- Django – Python framework (for faster web development  \n",
    "         Tutorial: https://docs.djangoproject.com/en/1.11/intro/tutorial01/ \n",
    "- REST   – Framework on top of django for building Web APIs  \n",
    "         Tutorial: http://www.django-rest-framework.org/tutorial/1-serialization/"
   ]
  },
  {
   "cell_type": "code",
   "execution_count": null,
   "metadata": {
    "collapsed": true
   },
   "outputs": [],
   "source": []
  },
  {
   "cell_type": "code",
   "execution_count": null,
   "metadata": {
    "collapsed": true
   },
   "outputs": [],
   "source": []
  }
 ],
 "metadata": {
  "kernelspec": {
   "display_name": "Python 3",
   "language": "python",
   "name": "python3"
  },
  "language_info": {
   "codemirror_mode": {
    "name": "ipython",
    "version": 3
   },
   "file_extension": ".py",
   "mimetype": "text/x-python",
   "name": "python",
   "nbconvert_exporter": "python",
   "pygments_lexer": "ipython3",
   "version": "3.6.1"
  }
 },
 "nbformat": 4,
 "nbformat_minor": 2
}
